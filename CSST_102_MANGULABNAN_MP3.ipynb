{
  "nbformat": 4,
  "nbformat_minor": 0,
  "metadata": {
    "colab": {
      "provenance": []
    },
    "kernelspec": {
      "name": "python3",
      "display_name": "Python 3"
    },
    "language_info": {
      "name": "python"
    }
  },
  "cells": [
    {
      "cell_type": "code",
      "execution_count": 83,
      "metadata": {
        "id": "96e38FLztuj7"
      },
      "outputs": [],
      "source": [
        "import pandas as pd\n",
        "import numpy as np\n",
        "from sklearn.datasets import load_breast_cancer\n",
        "import matplotlib.pyplot as plt\n",
        "from sklearn.model_selection import train_test_split\n",
        "from sklearn.preprocessing import StandardScaler\n",
        "from sklearn.neighbors import KNeighborsClassifier\n",
        "from sklearn.metrics import accuracy_score, precision_score, recall_score, f1_score, confusion_matrix, ConfusionMatrixDisplay\n",
        "from sklearn.linear_model import LogisticRegression\n",
        "from sklearn.decomposition import PCA"
      ]
    },
    {
      "cell_type": "markdown",
      "source": [
        "Loading dataset with pandas dataframe"
      ],
      "metadata": {
        "id": "GxQr7DsB38d3"
      }
    },
    {
      "cell_type": "markdown",
      "source": [
        "Data exploration checking for missing values\n"
      ],
      "metadata": {
        "id": "5m7-NlTTH8jr"
      }
    },
    {
      "cell_type": "code",
      "source": [
        "data = load_breast_cancer()\n",
        "df = pd.DataFrame(data = data.data, columns=data.feature_names)\n",
        "df['target'] = data.target\n",
        "\n",
        "print(\"First 10 row of the dataset\")\n",
        "print(df.head(10))\n",
        "\n",
        "print(\"\\nMissing values in dataset\")\n",
        "print(df.isnull().sum())\n",
        "\n",
        "print(\"\\nDescriptive statistics of the dataset\")\n",
        "print(df.describe())"
      ],
      "metadata": {
        "colab": {
          "base_uri": "https://localhost:8080/"
        },
        "id": "PW44Cpy4wzL9",
        "outputId": "1b89f30a-b364-484d-9d93-df8d8d0c147f"
      },
      "execution_count": 84,
      "outputs": [
        {
          "output_type": "stream",
          "name": "stdout",
          "text": [
            "First 10 row of the dataset\n",
            "   mean radius  mean texture  mean perimeter  mean area  mean smoothness  \\\n",
            "0        17.99         10.38          122.80     1001.0          0.11840   \n",
            "1        20.57         17.77          132.90     1326.0          0.08474   \n",
            "2        19.69         21.25          130.00     1203.0          0.10960   \n",
            "3        11.42         20.38           77.58      386.1          0.14250   \n",
            "4        20.29         14.34          135.10     1297.0          0.10030   \n",
            "5        12.45         15.70           82.57      477.1          0.12780   \n",
            "6        18.25         19.98          119.60     1040.0          0.09463   \n",
            "7        13.71         20.83           90.20      577.9          0.11890   \n",
            "8        13.00         21.82           87.50      519.8          0.12730   \n",
            "9        12.46         24.04           83.97      475.9          0.11860   \n",
            "\n",
            "   mean compactness  mean concavity  mean concave points  mean symmetry  \\\n",
            "0           0.27760         0.30010              0.14710         0.2419   \n",
            "1           0.07864         0.08690              0.07017         0.1812   \n",
            "2           0.15990         0.19740              0.12790         0.2069   \n",
            "3           0.28390         0.24140              0.10520         0.2597   \n",
            "4           0.13280         0.19800              0.10430         0.1809   \n",
            "5           0.17000         0.15780              0.08089         0.2087   \n",
            "6           0.10900         0.11270              0.07400         0.1794   \n",
            "7           0.16450         0.09366              0.05985         0.2196   \n",
            "8           0.19320         0.18590              0.09353         0.2350   \n",
            "9           0.23960         0.22730              0.08543         0.2030   \n",
            "\n",
            "   mean fractal dimension  ...  worst texture  worst perimeter  worst area  \\\n",
            "0                 0.07871  ...          17.33           184.60      2019.0   \n",
            "1                 0.05667  ...          23.41           158.80      1956.0   \n",
            "2                 0.05999  ...          25.53           152.50      1709.0   \n",
            "3                 0.09744  ...          26.50            98.87       567.7   \n",
            "4                 0.05883  ...          16.67           152.20      1575.0   \n",
            "5                 0.07613  ...          23.75           103.40       741.6   \n",
            "6                 0.05742  ...          27.66           153.20      1606.0   \n",
            "7                 0.07451  ...          28.14           110.60       897.0   \n",
            "8                 0.07389  ...          30.73           106.20       739.3   \n",
            "9                 0.08243  ...          40.68            97.65       711.4   \n",
            "\n",
            "   worst smoothness  worst compactness  worst concavity  worst concave points  \\\n",
            "0            0.1622             0.6656           0.7119                0.2654   \n",
            "1            0.1238             0.1866           0.2416                0.1860   \n",
            "2            0.1444             0.4245           0.4504                0.2430   \n",
            "3            0.2098             0.8663           0.6869                0.2575   \n",
            "4            0.1374             0.2050           0.4000                0.1625   \n",
            "5            0.1791             0.5249           0.5355                0.1741   \n",
            "6            0.1442             0.2576           0.3784                0.1932   \n",
            "7            0.1654             0.3682           0.2678                0.1556   \n",
            "8            0.1703             0.5401           0.5390                0.2060   \n",
            "9            0.1853             1.0580           1.1050                0.2210   \n",
            "\n",
            "   worst symmetry  worst fractal dimension  target  \n",
            "0          0.4601                  0.11890       0  \n",
            "1          0.2750                  0.08902       0  \n",
            "2          0.3613                  0.08758       0  \n",
            "3          0.6638                  0.17300       0  \n",
            "4          0.2364                  0.07678       0  \n",
            "5          0.3985                  0.12440       0  \n",
            "6          0.3063                  0.08368       0  \n",
            "7          0.3196                  0.11510       0  \n",
            "8          0.4378                  0.10720       0  \n",
            "9          0.4366                  0.20750       0  \n",
            "\n",
            "[10 rows x 31 columns]\n",
            "\n",
            "Missing values in dataset\n",
            "mean radius                0\n",
            "mean texture               0\n",
            "mean perimeter             0\n",
            "mean area                  0\n",
            "mean smoothness            0\n",
            "mean compactness           0\n",
            "mean concavity             0\n",
            "mean concave points        0\n",
            "mean symmetry              0\n",
            "mean fractal dimension     0\n",
            "radius error               0\n",
            "texture error              0\n",
            "perimeter error            0\n",
            "area error                 0\n",
            "smoothness error           0\n",
            "compactness error          0\n",
            "concavity error            0\n",
            "concave points error       0\n",
            "symmetry error             0\n",
            "fractal dimension error    0\n",
            "worst radius               0\n",
            "worst texture              0\n",
            "worst perimeter            0\n",
            "worst area                 0\n",
            "worst smoothness           0\n",
            "worst compactness          0\n",
            "worst concavity            0\n",
            "worst concave points       0\n",
            "worst symmetry             0\n",
            "worst fractal dimension    0\n",
            "target                     0\n",
            "dtype: int64\n",
            "\n",
            "Descriptive statistics of the dataset\n",
            "       mean radius  mean texture  mean perimeter    mean area  \\\n",
            "count   569.000000    569.000000      569.000000   569.000000   \n",
            "mean     14.127292     19.289649       91.969033   654.889104   \n",
            "std       3.524049      4.301036       24.298981   351.914129   \n",
            "min       6.981000      9.710000       43.790000   143.500000   \n",
            "25%      11.700000     16.170000       75.170000   420.300000   \n",
            "50%      13.370000     18.840000       86.240000   551.100000   \n",
            "75%      15.780000     21.800000      104.100000   782.700000   \n",
            "max      28.110000     39.280000      188.500000  2501.000000   \n",
            "\n",
            "       mean smoothness  mean compactness  mean concavity  mean concave points  \\\n",
            "count       569.000000        569.000000      569.000000           569.000000   \n",
            "mean          0.096360          0.104341        0.088799             0.048919   \n",
            "std           0.014064          0.052813        0.079720             0.038803   \n",
            "min           0.052630          0.019380        0.000000             0.000000   \n",
            "25%           0.086370          0.064920        0.029560             0.020310   \n",
            "50%           0.095870          0.092630        0.061540             0.033500   \n",
            "75%           0.105300          0.130400        0.130700             0.074000   \n",
            "max           0.163400          0.345400        0.426800             0.201200   \n",
            "\n",
            "       mean symmetry  mean fractal dimension  ...  worst texture  \\\n",
            "count     569.000000              569.000000  ...     569.000000   \n",
            "mean        0.181162                0.062798  ...      25.677223   \n",
            "std         0.027414                0.007060  ...       6.146258   \n",
            "min         0.106000                0.049960  ...      12.020000   \n",
            "25%         0.161900                0.057700  ...      21.080000   \n",
            "50%         0.179200                0.061540  ...      25.410000   \n",
            "75%         0.195700                0.066120  ...      29.720000   \n",
            "max         0.304000                0.097440  ...      49.540000   \n",
            "\n",
            "       worst perimeter   worst area  worst smoothness  worst compactness  \\\n",
            "count       569.000000   569.000000        569.000000         569.000000   \n",
            "mean        107.261213   880.583128          0.132369           0.254265   \n",
            "std          33.602542   569.356993          0.022832           0.157336   \n",
            "min          50.410000   185.200000          0.071170           0.027290   \n",
            "25%          84.110000   515.300000          0.116600           0.147200   \n",
            "50%          97.660000   686.500000          0.131300           0.211900   \n",
            "75%         125.400000  1084.000000          0.146000           0.339100   \n",
            "max         251.200000  4254.000000          0.222600           1.058000   \n",
            "\n",
            "       worst concavity  worst concave points  worst symmetry  \\\n",
            "count       569.000000            569.000000      569.000000   \n",
            "mean          0.272188              0.114606        0.290076   \n",
            "std           0.208624              0.065732        0.061867   \n",
            "min           0.000000              0.000000        0.156500   \n",
            "25%           0.114500              0.064930        0.250400   \n",
            "50%           0.226700              0.099930        0.282200   \n",
            "75%           0.382900              0.161400        0.317900   \n",
            "max           1.252000              0.291000        0.663800   \n",
            "\n",
            "       worst fractal dimension      target  \n",
            "count               569.000000  569.000000  \n",
            "mean                  0.083946    0.627417  \n",
            "std                   0.018061    0.483918  \n",
            "min                   0.055040    0.000000  \n",
            "25%                   0.071460    0.000000  \n",
            "50%                   0.080040    1.000000  \n",
            "75%                   0.092080    1.000000  \n",
            "max                   0.207500    1.000000  \n",
            "\n",
            "[8 rows x 31 columns]\n"
          ]
        }
      ]
    },
    {
      "cell_type": "markdown",
      "source": [
        "Summarizing dataset"
      ],
      "metadata": {
        "id": "slxTwLCU3-d2"
      }
    },
    {
      "cell_type": "code",
      "source": [
        "intance = df.shape[0]\n",
        "features = df.shape[1] - 1\n",
        "print(f\"\\nNumber of instances: {intance}\")\n",
        "print(f\"Number of features: {features}\")"
      ],
      "metadata": {
        "colab": {
          "base_uri": "https://localhost:8080/"
        },
        "id": "YccpBL7lyRvm",
        "outputId": "b68d9e5e-c499-4c01-f0e2-f14a2f2bba2a"
      },
      "execution_count": 85,
      "outputs": [
        {
          "output_type": "stream",
          "name": "stdout",
          "text": [
            "\n",
            "Number of instances: 569\n",
            "Number of features: 30\n"
          ]
        }
      ]
    },
    {
      "cell_type": "markdown",
      "source": [
        "Feature with the highest variance"
      ],
      "metadata": {
        "id": "sBbV2ONR4HD4"
      }
    },
    {
      "cell_type": "code",
      "source": [
        "variance = df.var().sort_values(ascending = False)\n",
        "print(\"\\nFeatures with the highest variance:\")\n",
        "print(variance.head(10))"
      ],
      "metadata": {
        "colab": {
          "base_uri": "https://localhost:8080/"
        },
        "id": "g0nyyc4ey3em",
        "outputId": "27836cd1-4bc8-4a5d-c166-2d770f9f0e14"
      },
      "execution_count": 86,
      "outputs": [
        {
          "output_type": "stream",
          "name": "stdout",
          "text": [
            "\n",
            "Features with the highest variance:\n",
            "worst area         324167.385102\n",
            "mean area          123843.554318\n",
            "area error           2069.431583\n",
            "worst perimeter      1129.130847\n",
            "mean perimeter        590.440480\n",
            "worst texture          37.776483\n",
            "worst radius           23.360224\n",
            "mean texture           18.498909\n",
            "mean radius            12.418920\n",
            "perimeter error         4.087896\n",
            "dtype: float64\n"
          ]
        }
      ]
    },
    {
      "cell_type": "markdown",
      "source": [
        "Preprocessing"
      ],
      "metadata": {
        "id": "ZbGuLfNjIADx"
      }
    },
    {
      "cell_type": "markdown",
      "source": [
        "Dropping irrelevant columns"
      ],
      "metadata": {
        "id": "bKMqtfnYID35"
      }
    },
    {
      "cell_type": "markdown",
      "source": [
        "normalizing the data then Training and test split"
      ],
      "metadata": {
        "id": "8T36iILc4JV2"
      }
    },
    {
      "cell_type": "markdown",
      "source": [
        "Trained the model using test_training_split"
      ],
      "metadata": {
        "id": "ZL6yVKd9Ij1J"
      }
    },
    {
      "cell_type": "code",
      "source": [
        "scaler = StandardScaler()\n",
        "x = df.drop(columns = ['target'])\n",
        "y = df['target']\n",
        "\n",
        "scaledx = scaler.fit_transform(x)\n",
        "\n",
        "x_train, x_test, y_train, y_test = train_test_split(scaledx, y, test_size = 0.2, random_state = 42)\n",
        "\n",
        "print(f\"Training set size: {x_train.shape[0]} intnaces\")\n",
        "print(f\"Testing set size: {x_test.shape[0]} instances\")\n",
        "print(f\"Number of features: {x_train.shape[1]}\")"
      ],
      "metadata": {
        "colab": {
          "base_uri": "https://localhost:8080/"
        },
        "id": "CcWlcPn4zW_N",
        "outputId": "ccd6c20e-1d79-45de-c930-a6ddd421f021"
      },
      "execution_count": 87,
      "outputs": [
        {
          "output_type": "stream",
          "name": "stdout",
          "text": [
            "Training set size: 455 intnaces\n",
            "Testing set size: 114 instances\n",
            "Number of features: 30\n"
          ]
        }
      ]
    },
    {
      "cell_type": "markdown",
      "source": [
        "KNN model"
      ],
      "metadata": {
        "id": "_iwGwEVHILIc"
      }
    },
    {
      "cell_type": "markdown",
      "source": [
        "Used the n_neighbors = 3"
      ],
      "metadata": {
        "id": "BRPEFgriIezi"
      }
    },
    {
      "cell_type": "markdown",
      "source": [
        "Made a prediction on the test dataset"
      ],
      "metadata": {
        "id": "Q3DqXpneIr-p"
      }
    },
    {
      "cell_type": "code",
      "source": [
        "knn = KNeighborsClassifier(n_neighbors = 3)\n",
        "knn.fit(x_train, y_train)\n",
        "y_predict_knn = knn.predict(x_test)\n",
        "\n",
        "accuracy_knn = accuracy_score(y_test, y_predict_knn)\n",
        "print(f\"KNN model accuracy: {accuracy_knn * 100:.2f}%\")"
      ],
      "metadata": {
        "colab": {
          "base_uri": "https://localhost:8080/"
        },
        "id": "gD9gsu5955Ej",
        "outputId": "c1bac915-687a-4a4d-f48a-a0d529591c8c"
      },
      "execution_count": 88,
      "outputs": [
        {
          "output_type": "stream",
          "name": "stdout",
          "text": [
            "KNN model accuracy: 94.74%\n"
          ]
        }
      ]
    },
    {
      "cell_type": "code",
      "source": [
        "cm_knn = confusion_matrix(y_test, y_predict_knn)\n",
        "disp_knn = ConfusionMatrixDisplay(confusion_matrix = cm_knn, display_labels = ['Benign', 'Maligant'])\n",
        "disp_knn.plot(cmap = 'Blues')\n",
        "plt.title('Confusion Matrix - KNN Clasifier')"
      ],
      "metadata": {
        "colab": {
          "base_uri": "https://localhost:8080/",
          "height": 489
        },
        "id": "mFwjJsry7eZ4",
        "outputId": "0f157b74-1701-4cf1-92c6-38ad37187a1f"
      },
      "execution_count": 89,
      "outputs": [
        {
          "output_type": "execute_result",
          "data": {
            "text/plain": [
              "Text(0.5, 1.0, 'Confusion Matrix - KNN Clasifier')"
            ]
          },
          "metadata": {},
          "execution_count": 89
        },
        {
          "output_type": "display_data",
          "data": {
            "text/plain": [
              "<Figure size 640x480 with 2 Axes>"
            ],
            "image/png": "[encoded data removed]"
          },
          "metadata": {}
        }
      ]
    },
    {
      "cell_type": "markdown",
      "source": [
        "Used default settings"
      ],
      "metadata": {
        "id": "kfbfKsRMIy2I"
      }
    },
    {
      "cell_type": "markdown",
      "source": [
        "Also made a prediction on the test dataset"
      ],
      "metadata": {
        "id": "rEF9rMglI1Sh"
      }
    },
    {
      "cell_type": "code",
      "source": [
        "logreg = LogisticRegression()\n",
        "logreg.fit(x_train, y_train)\n",
        "\n",
        "y_predict_logreg = logreg.predict(x_test)\n",
        "accuracy_logreg = accuracy_score(y_test, y_predict_logreg)\n",
        "\n",
        "print(f\"Logistic Regression model accuracy: {accuracy_logreg * 100:.2f}%\")"
      ],
      "metadata": {
        "colab": {
          "base_uri": "https://localhost:8080/"
        },
        "id": "L50f56sA_Vtg",
        "outputId": "9bc10b4e-6e59-416b-d1d6-186e7a649eeb"
      },
      "execution_count": 90,
      "outputs": [
        {
          "output_type": "stream",
          "name": "stdout",
          "text": [
            "Logistic Regression model accuracy: 97.37%\n"
          ]
        }
      ]
    },
    {
      "cell_type": "code",
      "source": [
        "cm_logreg = confusion_matrix(y_test, y_predict_logreg)\n",
        "disp_logreg = ConfusionMatrixDisplay(confusion_matrix = cm_logreg, display_labels = ['Benign', 'Malignant'])\n",
        "disp_logreg.plot(cmap = 'Greens')\n",
        "plt.title('Confusion matrix - Logistic Regression')\n",
        "plt.show()\n",
        "\n",
        "print(f\"\\nComparison of Model Accuracies:\\n\"\n",
        "f\"KNN Accuracy: {accuracy_knn * 100:.2f}%\\n\"\n",
        "f\"Logistic Regresion Accuracy: {accuracy_logreg * 100:.2f}%\")"
      ],
      "metadata": {
        "colab": {
          "base_uri": "https://localhost:8080/",
          "height": 541
        },
        "id": "gjD7gWeyAJBx",
        "outputId": "21867b44-35d2-4644-b492-53352b8c0491"
      },
      "execution_count": 91,
      "outputs": [
        {
          "output_type": "display_data",
          "data": {
            "text/plain": [
              "<Figure size 640x480 with 2 Axes>"
            ],
            "image/png": "[encoded data removed]"
          },
          "metadata": {}
        },
        {
          "output_type": "stream",
          "name": "stdout",
          "text": [
            "\n",
            "Comparison of Model Accuracies:\n",
            "KNN Accuracy: 94.74%\n",
            "Logistic Regresion Accuracy: 97.37%\n"
          ]
        }
      ]
    },
    {
      "cell_type": "markdown",
      "source": [
        "Evaluation"
      ],
      "metadata": {
        "id": "XH1fC9dzI6YZ"
      }
    },
    {
      "cell_type": "markdown",
      "source": [
        "Here i calculate the Accuracy, precision, recall and f1 scores"
      ],
      "metadata": {
        "id": "LwbLjoNVI8CS"
      }
    },
    {
      "cell_type": "markdown",
      "source": [
        "Diplayed the confusion matrix for both KNN and logistic regression to show the details."
      ],
      "metadata": {
        "id": "6lzYx4FFJRZa"
      }
    },
    {
      "cell_type": "code",
      "source": [
        "def evaluate_model(y_true, y_predict, name):\n",
        "  accuracy = accuracy_score(y_true, y_predict)\n",
        "  precision = precision_score(y_true, y_predict)\n",
        "  recall = recall_score(y_true, y_predict)\n",
        "  f1 = f1_score(y_true, y_predict)\n",
        "\n",
        "  print(f\"Evaluation of {name}:\")\n",
        "  print(f\"Accuracy: {accuracy * 100:.2f}%\")\n",
        "  print(f\"Precision: {precision * 100:.2f}%\")\n",
        "  print(f\"Recall: {recall * 100:.2f}%\")\n",
        "  print(f\"F1: {f1 * 100:.2f}%\")\n",
        "  print(\"\\n\")\n",
        "  cm = confusion_matrix(y_true, y_predict)\n",
        "  disp = ConfusionMatrixDisplay(confusion_matrix = cm, display_labels = ['Benign', 'Malignant'])\n",
        "  disp.plot(cmap = 'coolwarm')\n",
        "  plt.title(f'Confusion Matrix - {name}')\n",
        "  plt.show()\n",
        "\n",
        "y_predict_knn = knn.predict(x_test)\n",
        "evaluate_model(y_test, y_predict_knn, \"KNN Classifier\")\n",
        "\n",
        "y_predict_logreg = logreg.predict(x_test)\n",
        "evaluate_model(y_test, y_predict_logreg, \"Logistic Regression\")"
      ],
      "metadata": {
        "colab": {
          "base_uri": "https://localhost:8080/",
          "height": 1000
        },
        "id": "SFXWKdJjB36A",
        "outputId": "caa1ac53-d761-4968-ce2b-9de8a3dfc5a5"
      },
      "execution_count": 92,
      "outputs": [
        {
          "output_type": "stream",
          "name": "stdout",
          "text": [
            "Evaluation of KNN Classifier:\n",
            "Accuracy: 94.74%\n",
            "Precision: 95.77%\n",
            "Recall: 95.77%\n",
            "F1: 95.77%\n",
            "\n",
            "\n"
          ]
        },
        {
          "output_type": "display_data",
          "data": {
            "text/plain": [
              "<Figure size 640x480 with 2 Axes>"
            ],
            "image/png": "[encoded data removed]"
          },
          "metadata": {}
        },
        {
          "output_type": "stream",
          "name": "stdout",
          "text": [
            "Evaluation of Logistic Regression:\n",
            "Accuracy: 97.37%\n",
            "Precision: 97.22%\n",
            "Recall: 98.59%\n",
            "F1: 97.90%\n",
            "\n",
            "\n"
          ]
        },
        {
          "output_type": "display_data",
          "data": {
            "text/plain": [
              "<Figure size 640x480 with 2 Axes>"
            ],
            "image/png": "[encoded data removed]"
          },
          "metadata": {}
        }
      ]
    }
  ]
}